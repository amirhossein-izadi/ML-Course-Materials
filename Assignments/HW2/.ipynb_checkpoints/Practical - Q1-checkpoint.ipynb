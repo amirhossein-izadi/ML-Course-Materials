{
 "cells": [
  {
   "cell_type": "markdown",
   "id": "75398bc4",
   "metadata": {},
   "source": [
    "## import libraries"
   ]
  },
  {
   "cell_type": "code",
   "execution_count": 2,
   "id": "0e31451f",
   "metadata": {},
   "outputs": [
    {
     "name": "stderr",
     "output_type": "stream",
     "text": [
      "C:\\Users\\Aizad\\AppData\\Local\\Programs\\Python\\Python310\\lib\\site-packages\\tqdm\\auto.py:22: TqdmWarning: IProgress not found. Please update jupyter and ipywidgets. See https://ipywidgets.readthedocs.io/en/stable/user_install.html\n",
      "  from .autonotebook import tqdm as notebook_tqdm\n"
     ]
    }
   ],
   "source": [
    "import numpy as np \n",
    "import pandas as pd \n",
    "\n",
    "from ydata_profiling import ProfileReport\n",
    "from sklearn.preprocessing import LabelEncoder, StandardScaler, MinMaxScaler\n",
    "\n",
    "from sklearn.linear_model import LinearRegression\n",
    "from sklearn.model_selection import train_test_split, StratifiedKFold, cross_val_predict\n",
    "from sklearn.svm import SVC\n",
    "from sklearn.metrics import classification_report\n",
    "from imblearn.over_sampling import RandomOverSampler, SMOTE, ADASYN\n",
    "from imblearn.under_sampling import RandomUnderSampler\n",
    "from imblearn.combine import SMOTEENN"
   ]
  },
  {
   "cell_type": "code",
   "execution_count": 3,
   "id": "5bec6b24",
   "metadata": {},
   "outputs": [],
   "source": [
    "df = pd.read_csv('dataset.csv')"
   ]
  },
  {
   "cell_type": "markdown",
   "id": "bf1570fd",
   "metadata": {},
   "source": [
    "### *some insight and details of database*"
   ]
  },
  {
   "cell_type": "code",
   "execution_count": 4,
   "id": "5d845e91",
   "metadata": {},
   "outputs": [
    {
     "data": {
      "text/html": [
       "<div>\n",
       "<style scoped>\n",
       "    .dataframe tbody tr th:only-of-type {\n",
       "        vertical-align: middle;\n",
       "    }\n",
       "\n",
       "    .dataframe tbody tr th {\n",
       "        vertical-align: top;\n",
       "    }\n",
       "\n",
       "    .dataframe thead th {\n",
       "        text-align: right;\n",
       "    }\n",
       "</style>\n",
       "<table border=\"1\" class=\"dataframe\">\n",
       "  <thead>\n",
       "    <tr style=\"text-align: right;\">\n",
       "      <th></th>\n",
       "      <th>id</th>\n",
       "      <th>gender</th>\n",
       "      <th>age</th>\n",
       "      <th>hypertension</th>\n",
       "      <th>heart_disease</th>\n",
       "      <th>ever_married</th>\n",
       "      <th>work_type</th>\n",
       "      <th>Residence_type</th>\n",
       "      <th>avg_glucose_level</th>\n",
       "      <th>bmi</th>\n",
       "      <th>smoking_status</th>\n",
       "      <th>stroke</th>\n",
       "    </tr>\n",
       "  </thead>\n",
       "  <tbody>\n",
       "    <tr>\n",
       "      <th>0</th>\n",
       "      <td>30669</td>\n",
       "      <td>Male</td>\n",
       "      <td>3.0</td>\n",
       "      <td>0</td>\n",
       "      <td>0</td>\n",
       "      <td>No</td>\n",
       "      <td>children</td>\n",
       "      <td>Rural</td>\n",
       "      <td>95.12</td>\n",
       "      <td>18.0</td>\n",
       "      <td>NaN</td>\n",
       "      <td>0</td>\n",
       "    </tr>\n",
       "    <tr>\n",
       "      <th>1</th>\n",
       "      <td>30468</td>\n",
       "      <td>Male</td>\n",
       "      <td>58.0</td>\n",
       "      <td>1</td>\n",
       "      <td>0</td>\n",
       "      <td>Yes</td>\n",
       "      <td>Private</td>\n",
       "      <td>Urban</td>\n",
       "      <td>87.96</td>\n",
       "      <td>39.2</td>\n",
       "      <td>never smoked</td>\n",
       "      <td>0</td>\n",
       "    </tr>\n",
       "    <tr>\n",
       "      <th>2</th>\n",
       "      <td>16523</td>\n",
       "      <td>Female</td>\n",
       "      <td>8.0</td>\n",
       "      <td>0</td>\n",
       "      <td>0</td>\n",
       "      <td>No</td>\n",
       "      <td>Private</td>\n",
       "      <td>Urban</td>\n",
       "      <td>110.89</td>\n",
       "      <td>17.6</td>\n",
       "      <td>NaN</td>\n",
       "      <td>0</td>\n",
       "    </tr>\n",
       "    <tr>\n",
       "      <th>3</th>\n",
       "      <td>56543</td>\n",
       "      <td>Female</td>\n",
       "      <td>70.0</td>\n",
       "      <td>0</td>\n",
       "      <td>0</td>\n",
       "      <td>Yes</td>\n",
       "      <td>Private</td>\n",
       "      <td>Rural</td>\n",
       "      <td>69.04</td>\n",
       "      <td>35.9</td>\n",
       "      <td>formerly smoked</td>\n",
       "      <td>0</td>\n",
       "    </tr>\n",
       "    <tr>\n",
       "      <th>4</th>\n",
       "      <td>46136</td>\n",
       "      <td>Male</td>\n",
       "      <td>14.0</td>\n",
       "      <td>0</td>\n",
       "      <td>0</td>\n",
       "      <td>No</td>\n",
       "      <td>Never_worked</td>\n",
       "      <td>Rural</td>\n",
       "      <td>161.28</td>\n",
       "      <td>19.1</td>\n",
       "      <td>NaN</td>\n",
       "      <td>0</td>\n",
       "    </tr>\n",
       "  </tbody>\n",
       "</table>\n",
       "</div>"
      ],
      "text/plain": [
       "      id  gender   age  hypertension  heart_disease ever_married  \\\n",
       "0  30669    Male   3.0             0              0           No   \n",
       "1  30468    Male  58.0             1              0          Yes   \n",
       "2  16523  Female   8.0             0              0           No   \n",
       "3  56543  Female  70.0             0              0          Yes   \n",
       "4  46136    Male  14.0             0              0           No   \n",
       "\n",
       "      work_type Residence_type  avg_glucose_level   bmi   smoking_status  \\\n",
       "0      children          Rural              95.12  18.0              NaN   \n",
       "1       Private          Urban              87.96  39.2     never smoked   \n",
       "2       Private          Urban             110.89  17.6              NaN   \n",
       "3       Private          Rural              69.04  35.9  formerly smoked   \n",
       "4  Never_worked          Rural             161.28  19.1              NaN   \n",
       "\n",
       "   stroke  \n",
       "0       0  \n",
       "1       0  \n",
       "2       0  \n",
       "3       0  \n",
       "4       0  "
      ]
     },
     "execution_count": 4,
     "metadata": {},
     "output_type": "execute_result"
    }
   ],
   "source": [
    "df.head()"
   ]
  },
  {
   "cell_type": "code",
   "execution_count": 5,
   "id": "8f4c3c05",
   "metadata": {},
   "outputs": [
    {
     "data": {
      "text/plain": [
       "(43400, 12)"
      ]
     },
     "execution_count": 5,
     "metadata": {},
     "output_type": "execute_result"
    }
   ],
   "source": [
    "df.shape"
   ]
  },
  {
   "cell_type": "markdown",
   "id": "d5d4b3d2",
   "metadata": {},
   "source": [
    "### *we must check if there exist any missing values or duplicated records*"
   ]
  },
  {
   "cell_type": "code",
   "execution_count": 6,
   "id": "c644e9a5",
   "metadata": {},
   "outputs": [
    {
     "data": {
      "text/plain": [
       "id                       0\n",
       "gender                   0\n",
       "age                      0\n",
       "hypertension             0\n",
       "heart_disease            0\n",
       "ever_married             0\n",
       "work_type                0\n",
       "Residence_type           0\n",
       "avg_glucose_level        0\n",
       "bmi                   1462\n",
       "smoking_status       13292\n",
       "stroke                   0\n",
       "dtype: int64"
      ]
     },
     "execution_count": 6,
     "metadata": {},
     "output_type": "execute_result"
    }
   ],
   "source": [
    "df.isnull().sum()"
   ]
  },
  {
   "cell_type": "code",
   "execution_count": 7,
   "id": "edc0b067",
   "metadata": {},
   "outputs": [
    {
     "data": {
      "text/plain": [
       "0"
      ]
     },
     "execution_count": 7,
     "metadata": {},
     "output_type": "execute_result"
    }
   ],
   "source": [
    "df.duplicated().sum()"
   ]
  },
  {
   "cell_type": "markdown",
   "id": "92e47bc8",
   "metadata": {},
   "source": [
    "\n",
    "- We drop unused column id\n",
    "- We drop the feature  *'smoking_status'*   becuase most of the records values are null \n",
    "- We will check if the data is imbalanced and balance it later \n",
    "- We replace bmi missing value  with mean, mode, or predict it by a model based on the corr bitween  *'storke'*  and  *'bmi'* <b> (after encoding and scaling)\n",
    "\n",
    "---\n"
   ]
  },
  {
   "cell_type": "code",
   "execution_count": 8,
   "id": "6c536f2f",
   "metadata": {},
   "outputs": [],
   "source": [
    "df = df.drop(columns=['id', 'smoking_status'])"
   ]
  },
  {
   "cell_type": "code",
   "execution_count": 9,
   "id": "e5c40a2d",
   "metadata": {},
   "outputs": [
    {
     "name": "stdout",
     "output_type": "stream",
     "text": [
      "The percentage of stroke records is 1.804147465437788\n"
     ]
    }
   ],
   "source": [
    "print('The percentage of stroke records is', df[df['stroke'] == 1].shape[0] / df.shape[0] * 100)"
   ]
  },
  {
   "cell_type": "markdown",
   "id": "b72e5026",
   "metadata": {},
   "source": [
    "## *encode the Ordinal and Nominal  columns*\n",
    "---\n",
    "- Nominal columns via onehot encoding "
   ]
  },
  {
   "cell_type": "code",
   "execution_count": 10,
   "id": "0c9915b1",
   "metadata": {},
   "outputs": [
    {
     "data": {
      "text/plain": [
       "['children', 'Private', 'Never_worked', 'Self-employed', 'Govt_job']"
      ]
     },
     "execution_count": 10,
     "metadata": {},
     "output_type": "execute_result"
    }
   ],
   "source": [
    "df['work_type'].unique().tolist()"
   ]
  },
  {
   "cell_type": "code",
   "execution_count": 11,
   "id": "8a979da3",
   "metadata": {},
   "outputs": [],
   "source": [
    "categorical_columns = ['gender','work_type','Residence_type']\n",
    "\n",
    "one_hot_encoded = pd.get_dummies(df[categorical_columns])\n",
    "df = pd.concat([df.iloc[:, :-1], one_hot_encoded, df.iloc[:, -1]], axis=1)\n",
    "df = df.drop(columns=categorical_columns)"
   ]
  },
  {
   "cell_type": "markdown",
   "id": "b2b43f18",
   "metadata": {},
   "source": [
    "- Ordinal columns via label encoding"
   ]
  },
  {
   "cell_type": "code",
   "execution_count": 12,
   "id": "ebd6d524",
   "metadata": {},
   "outputs": [],
   "source": [
    "label_encoder = LabelEncoder()\n",
    "df['ever_married'] = label_encoder.fit_transform(df['ever_married'])"
   ]
  },
  {
   "cell_type": "markdown",
   "id": "92d69f7c",
   "metadata": {},
   "source": [
    "## *get profile report of processed dataset*"
   ]
  },
  {
   "cell_type": "code",
   "execution_count": 13,
   "id": "b213e1c3",
   "metadata": {},
   "outputs": [
    {
     "name": "stderr",
     "output_type": "stream",
     "text": [
      "Summarize dataset: 100%|████████████████████████████████████████████████████| 35/35 [00:04<00:00,  8.33it/s, Completed]\n",
      "Generate report structure: 100%|█████████████████████████████████████████████████████████| 1/1 [00:02<00:00,  2.87s/it]\n",
      "Render HTML: 100%|███████████████████████████████████████████████████████████████████████| 1/1 [00:00<00:00,  1.70it/s]\n",
      "Export report to file: 100%|████████████████████████████████████████████████████████████| 1/1 [00:00<00:00, 250.02it/s]\n"
     ]
    }
   ],
   "source": [
    "profile = ProfileReport(df, title='CVA detection')\n",
    "profile.to_file('report.html')"
   ]
  },
  {
   "cell_type": "markdown",
   "id": "d6bdb256",
   "metadata": {},
   "source": [
    "<b>According to the distribution of avg_glucose_level and bmi, we apply the standard scaler on these two features but for age we apply minmax scaler"
   ]
  },
  {
   "cell_type": "code",
   "execution_count": 14,
   "id": "ea873019",
   "metadata": {},
   "outputs": [],
   "source": [
    "std_scaler = StandardScaler()\n",
    "df[['bmi', 'avg_glucose_level']] = std_scaler.fit_transform(df[['bmi', 'avg_glucose_level']])"
   ]
  },
  {
   "cell_type": "code",
   "execution_count": 15,
   "id": "49fbb506",
   "metadata": {},
   "outputs": [],
   "source": [
    "mm_scaler = MinMaxScaler()\n",
    "df['age'] = mm_scaler.fit_transform(df[['age']])"
   ]
  },
  {
   "cell_type": "markdown",
   "id": "31a531fd",
   "metadata": {},
   "source": [
    "<b> fill the *'bmi'* missing values by linear regression model"
   ]
  },
  {
   "cell_type": "code",
   "execution_count": 16,
   "id": "1849ccec",
   "metadata": {},
   "outputs": [],
   "source": [
    "target_column = 'bmi'\n",
    "\n",
    "top_features = df.corr()[target_column].abs().nlargest(8).index[1:]\n",
    "\n",
    "data_for_imputation = df[top_features].copy()\n",
    "data_for_imputation[target_column] = df[target_column]\n",
    "\n",
    "train_data = data_for_imputation.dropna(subset=[target_column])\n",
    "test_data = data_for_imputation[data_for_imputation[target_column].isnull()]\n",
    "\n",
    "model = LinearRegression().fit(train_data[top_features], train_data[target_column])\n",
    "df.loc[df[target_column].isnull(), target_column] = model.predict(test_data[top_features])"
   ]
  },
  {
   "cell_type": "markdown",
   "id": "e578444e",
   "metadata": {},
   "source": [
    "## *drop columns has little corr with stroke*"
   ]
  },
  {
   "cell_type": "code",
   "execution_count": 17,
   "id": "a33f069f",
   "metadata": {},
   "outputs": [],
   "source": [
    "cols = ['Residence_type_Rural', 'Residence_type_Urban', 'gender_Female','gender_Male', 'gender_Other','work_type_Govt_job' , 'work_type_Never_worked', 'work_type_Private']\n",
    "df = df.drop(columns=cols)"
   ]
  },
  {
   "cell_type": "code",
   "execution_count": 18,
   "id": "ab465f34",
   "metadata": {},
   "outputs": [
    {
     "data": {
      "text/html": [
       "<div>\n",
       "<style scoped>\n",
       "    .dataframe tbody tr th:only-of-type {\n",
       "        vertical-align: middle;\n",
       "    }\n",
       "\n",
       "    .dataframe tbody tr th {\n",
       "        vertical-align: top;\n",
       "    }\n",
       "\n",
       "    .dataframe thead th {\n",
       "        text-align: right;\n",
       "    }\n",
       "</style>\n",
       "<table border=\"1\" class=\"dataframe\">\n",
       "  <thead>\n",
       "    <tr style=\"text-align: right;\">\n",
       "      <th></th>\n",
       "      <th>age</th>\n",
       "      <th>hypertension</th>\n",
       "      <th>heart_disease</th>\n",
       "      <th>ever_married</th>\n",
       "      <th>avg_glucose_level</th>\n",
       "      <th>bmi</th>\n",
       "      <th>work_type_Self-employed</th>\n",
       "      <th>work_type_children</th>\n",
       "      <th>stroke</th>\n",
       "    </tr>\n",
       "  </thead>\n",
       "  <tbody>\n",
       "    <tr>\n",
       "      <th>0</th>\n",
       "      <td>0.035645</td>\n",
       "      <td>0</td>\n",
       "      <td>0</td>\n",
       "      <td>0</td>\n",
       "      <td>-0.217176</td>\n",
       "      <td>-1.364882</td>\n",
       "      <td>0</td>\n",
       "      <td>1</td>\n",
       "      <td>0</td>\n",
       "    </tr>\n",
       "    <tr>\n",
       "      <th>1</th>\n",
       "      <td>0.707031</td>\n",
       "      <td>1</td>\n",
       "      <td>0</td>\n",
       "      <td>1</td>\n",
       "      <td>-0.383258</td>\n",
       "      <td>1.363586</td>\n",
       "      <td>0</td>\n",
       "      <td>0</td>\n",
       "      <td>0</td>\n",
       "    </tr>\n",
       "    <tr>\n",
       "      <th>2</th>\n",
       "      <td>0.096680</td>\n",
       "      <td>0</td>\n",
       "      <td>0</td>\n",
       "      <td>0</td>\n",
       "      <td>0.148621</td>\n",
       "      <td>-1.416363</td>\n",
       "      <td>0</td>\n",
       "      <td>0</td>\n",
       "      <td>0</td>\n",
       "    </tr>\n",
       "    <tr>\n",
       "      <th>3</th>\n",
       "      <td>0.853516</td>\n",
       "      <td>0</td>\n",
       "      <td>0</td>\n",
       "      <td>1</td>\n",
       "      <td>-0.822123</td>\n",
       "      <td>0.938871</td>\n",
       "      <td>0</td>\n",
       "      <td>0</td>\n",
       "      <td>0</td>\n",
       "    </tr>\n",
       "    <tr>\n",
       "      <th>4</th>\n",
       "      <td>0.169922</td>\n",
       "      <td>0</td>\n",
       "      <td>0</td>\n",
       "      <td>0</td>\n",
       "      <td>1.317458</td>\n",
       "      <td>-1.223311</td>\n",
       "      <td>0</td>\n",
       "      <td>0</td>\n",
       "      <td>0</td>\n",
       "    </tr>\n",
       "    <tr>\n",
       "      <th>...</th>\n",
       "      <td>...</td>\n",
       "      <td>...</td>\n",
       "      <td>...</td>\n",
       "      <td>...</td>\n",
       "      <td>...</td>\n",
       "      <td>...</td>\n",
       "      <td>...</td>\n",
       "      <td>...</td>\n",
       "      <td>...</td>\n",
       "    </tr>\n",
       "    <tr>\n",
       "      <th>43395</th>\n",
       "      <td>0.121094</td>\n",
       "      <td>0</td>\n",
       "      <td>0</td>\n",
       "      <td>0</td>\n",
       "      <td>-1.063359</td>\n",
       "      <td>-1.055999</td>\n",
       "      <td>0</td>\n",
       "      <td>1</td>\n",
       "      <td>0</td>\n",
       "    </tr>\n",
       "    <tr>\n",
       "      <th>43396</th>\n",
       "      <td>0.682617</td>\n",
       "      <td>0</td>\n",
       "      <td>0</td>\n",
       "      <td>1</td>\n",
       "      <td>2.531294</td>\n",
       "      <td>3.448547</td>\n",
       "      <td>0</td>\n",
       "      <td>0</td>\n",
       "      <td>0</td>\n",
       "    </tr>\n",
       "    <tr>\n",
       "      <th>43397</th>\n",
       "      <td>1.000000</td>\n",
       "      <td>1</td>\n",
       "      <td>0</td>\n",
       "      <td>1</td>\n",
       "      <td>-0.290939</td>\n",
       "      <td>0.037962</td>\n",
       "      <td>0</td>\n",
       "      <td>0</td>\n",
       "      <td>0</td>\n",
       "    </tr>\n",
       "    <tr>\n",
       "      <th>43398</th>\n",
       "      <td>0.487305</td>\n",
       "      <td>0</td>\n",
       "      <td>0</td>\n",
       "      <td>1</td>\n",
       "      <td>-0.123465</td>\n",
       "      <td>0.591378</td>\n",
       "      <td>0</td>\n",
       "      <td>0</td>\n",
       "      <td>0</td>\n",
       "    </tr>\n",
       "    <tr>\n",
       "      <th>43399</th>\n",
       "      <td>1.000000</td>\n",
       "      <td>0</td>\n",
       "      <td>0</td>\n",
       "      <td>1</td>\n",
       "      <td>-0.579959</td>\n",
       "      <td>-1.030259</td>\n",
       "      <td>0</td>\n",
       "      <td>0</td>\n",
       "      <td>0</td>\n",
       "    </tr>\n",
       "  </tbody>\n",
       "</table>\n",
       "<p>43400 rows × 9 columns</p>\n",
       "</div>"
      ],
      "text/plain": [
       "            age  hypertension  heart_disease  ever_married  avg_glucose_level  \\\n",
       "0      0.035645             0              0             0          -0.217176   \n",
       "1      0.707031             1              0             1          -0.383258   \n",
       "2      0.096680             0              0             0           0.148621   \n",
       "3      0.853516             0              0             1          -0.822123   \n",
       "4      0.169922             0              0             0           1.317458   \n",
       "...         ...           ...            ...           ...                ...   \n",
       "43395  0.121094             0              0             0          -1.063359   \n",
       "43396  0.682617             0              0             1           2.531294   \n",
       "43397  1.000000             1              0             1          -0.290939   \n",
       "43398  0.487305             0              0             1          -0.123465   \n",
       "43399  1.000000             0              0             1          -0.579959   \n",
       "\n",
       "            bmi  work_type_Self-employed  work_type_children  stroke  \n",
       "0     -1.364882                        0                   1       0  \n",
       "1      1.363586                        0                   0       0  \n",
       "2     -1.416363                        0                   0       0  \n",
       "3      0.938871                        0                   0       0  \n",
       "4     -1.223311                        0                   0       0  \n",
       "...         ...                      ...                 ...     ...  \n",
       "43395 -1.055999                        0                   1       0  \n",
       "43396  3.448547                        0                   0       0  \n",
       "43397  0.037962                        0                   0       0  \n",
       "43398  0.591378                        0                   0       0  \n",
       "43399 -1.030259                        0                   0       0  \n",
       "\n",
       "[43400 rows x 9 columns]"
      ]
     },
     "execution_count": 18,
     "metadata": {},
     "output_type": "execute_result"
    }
   ],
   "source": [
    "df"
   ]
  },
  {
   "cell_type": "code",
   "execution_count": 19,
   "id": "4c0640a1",
   "metadata": {},
   "outputs": [
    {
     "name": "stdout",
     "output_type": "stream",
     "text": [
      "Balancing Method: No Balancing\n",
      "              precision    recall  f1-score   support\n",
      "\n",
      "           0       0.98      1.00      0.99      4262\n",
      "           1       1.00      0.00      0.00        78\n",
      "\n",
      "    accuracy                           0.98      4340\n",
      "   macro avg       0.99      0.50      0.50      4340\n",
      "weighted avg       0.98      0.98      0.97      4340\n",
      "\n",
      "------------------------------------------------------------\n",
      "Balancing Method: Random OverSampling\n"
     ]
    },
    {
     "ename": "KeyboardInterrupt",
     "evalue": "",
     "output_type": "error",
     "traceback": [
      "\u001b[1;31m---------------------------------------------------------------------------\u001b[0m",
      "\u001b[1;31mKeyboardInterrupt\u001b[0m                         Traceback (most recent call last)",
      "\u001b[1;32m~\\AppData\\Local\\Temp/ipykernel_11036/3637932951.py\u001b[0m in \u001b[0;36m<module>\u001b[1;34m\u001b[0m\n\u001b[0;32m     21\u001b[0m \u001b[1;33m\u001b[0m\u001b[0m\n\u001b[0;32m     22\u001b[0m     \u001b[0msvm_model\u001b[0m \u001b[1;33m=\u001b[0m \u001b[0mSVC\u001b[0m\u001b[1;33m(\u001b[0m\u001b[0mkernel\u001b[0m\u001b[1;33m=\u001b[0m\u001b[1;34m'rbf'\u001b[0m\u001b[1;33m,\u001b[0m \u001b[0mrandom_state\u001b[0m\u001b[1;33m=\u001b[0m\u001b[1;36m42\u001b[0m\u001b[1;33m)\u001b[0m\u001b[1;33m\u001b[0m\u001b[1;33m\u001b[0m\u001b[0m\n\u001b[1;32m---> 23\u001b[1;33m     \u001b[0msvm_model\u001b[0m\u001b[1;33m.\u001b[0m\u001b[0mfit\u001b[0m\u001b[1;33m(\u001b[0m\u001b[0mX_train_balanced\u001b[0m\u001b[1;33m,\u001b[0m \u001b[0my_train_balanced\u001b[0m\u001b[1;33m)\u001b[0m\u001b[1;33m\u001b[0m\u001b[1;33m\u001b[0m\u001b[0m\n\u001b[0m\u001b[0;32m     24\u001b[0m     \u001b[0my_pred\u001b[0m \u001b[1;33m=\u001b[0m \u001b[0msvm_model\u001b[0m\u001b[1;33m.\u001b[0m\u001b[0mpredict\u001b[0m\u001b[1;33m(\u001b[0m\u001b[0mX_test\u001b[0m\u001b[1;33m)\u001b[0m\u001b[1;33m\u001b[0m\u001b[1;33m\u001b[0m\u001b[0m\n\u001b[0;32m     25\u001b[0m \u001b[1;33m\u001b[0m\u001b[0m\n",
      "\u001b[1;32m~\\AppData\\Local\\Programs\\Python\\Python310\\lib\\site-packages\\sklearn\\svm\\_base.py\u001b[0m in \u001b[0;36mfit\u001b[1;34m(self, X, y, sample_weight)\u001b[0m\n\u001b[0;32m    250\u001b[0m \u001b[1;33m\u001b[0m\u001b[0m\n\u001b[0;32m    251\u001b[0m         \u001b[0mseed\u001b[0m \u001b[1;33m=\u001b[0m \u001b[0mrnd\u001b[0m\u001b[1;33m.\u001b[0m\u001b[0mrandint\u001b[0m\u001b[1;33m(\u001b[0m\u001b[0mnp\u001b[0m\u001b[1;33m.\u001b[0m\u001b[0miinfo\u001b[0m\u001b[1;33m(\u001b[0m\u001b[1;34m\"i\"\u001b[0m\u001b[1;33m)\u001b[0m\u001b[1;33m.\u001b[0m\u001b[0mmax\u001b[0m\u001b[1;33m)\u001b[0m\u001b[1;33m\u001b[0m\u001b[1;33m\u001b[0m\u001b[0m\n\u001b[1;32m--> 252\u001b[1;33m         \u001b[0mfit\u001b[0m\u001b[1;33m(\u001b[0m\u001b[0mX\u001b[0m\u001b[1;33m,\u001b[0m \u001b[0my\u001b[0m\u001b[1;33m,\u001b[0m \u001b[0msample_weight\u001b[0m\u001b[1;33m,\u001b[0m \u001b[0msolver_type\u001b[0m\u001b[1;33m,\u001b[0m \u001b[0mkernel\u001b[0m\u001b[1;33m,\u001b[0m \u001b[0mrandom_seed\u001b[0m\u001b[1;33m=\u001b[0m\u001b[0mseed\u001b[0m\u001b[1;33m)\u001b[0m\u001b[1;33m\u001b[0m\u001b[1;33m\u001b[0m\u001b[0m\n\u001b[0m\u001b[0;32m    253\u001b[0m         \u001b[1;31m# see comment on the other call to np.iinfo in this file\u001b[0m\u001b[1;33m\u001b[0m\u001b[1;33m\u001b[0m\u001b[0m\n\u001b[0;32m    254\u001b[0m \u001b[1;33m\u001b[0m\u001b[0m\n",
      "\u001b[1;32m~\\AppData\\Local\\Programs\\Python\\Python310\\lib\\site-packages\\sklearn\\svm\\_base.py\u001b[0m in \u001b[0;36m_dense_fit\u001b[1;34m(self, X, y, sample_weight, solver_type, kernel, random_seed)\u001b[0m\n\u001b[0;32m    329\u001b[0m             \u001b[0mself\u001b[0m\u001b[1;33m.\u001b[0m\u001b[0mfit_status_\u001b[0m\u001b[1;33m,\u001b[0m\u001b[1;33m\u001b[0m\u001b[1;33m\u001b[0m\u001b[0m\n\u001b[0;32m    330\u001b[0m             \u001b[0mself\u001b[0m\u001b[1;33m.\u001b[0m\u001b[0m_num_iter\u001b[0m\u001b[1;33m,\u001b[0m\u001b[1;33m\u001b[0m\u001b[1;33m\u001b[0m\u001b[0m\n\u001b[1;32m--> 331\u001b[1;33m         \u001b[1;33m)\u001b[0m \u001b[1;33m=\u001b[0m \u001b[0mlibsvm\u001b[0m\u001b[1;33m.\u001b[0m\u001b[0mfit\u001b[0m\u001b[1;33m(\u001b[0m\u001b[1;33m\u001b[0m\u001b[1;33m\u001b[0m\u001b[0m\n\u001b[0m\u001b[0;32m    332\u001b[0m             \u001b[0mX\u001b[0m\u001b[1;33m,\u001b[0m\u001b[1;33m\u001b[0m\u001b[1;33m\u001b[0m\u001b[0m\n\u001b[0;32m    333\u001b[0m             \u001b[0my\u001b[0m\u001b[1;33m,\u001b[0m\u001b[1;33m\u001b[0m\u001b[1;33m\u001b[0m\u001b[0m\n",
      "\u001b[1;31mKeyboardInterrupt\u001b[0m: "
     ]
    }
   ],
   "source": [
    "X = df.drop('stroke', axis=1)\n",
    "y = df['stroke']\n",
    "\n",
    "X_train, X_test, y_train, y_test = train_test_split(X, y, test_size=0.1, random_state=42, stratify=y)\n",
    "\n",
    "balancing_methods = {\n",
    "    'No Balancing': None,\n",
    "    'Random OverSampling': RandomOverSampler(random_state=42),\n",
    "    'Random UnderSampling': RandomUnderSampler(random_state=42),\n",
    "    'SMOTE': SMOTE(random_state=42),\n",
    "    'ADASYN': ADASYN(random_state=42),\n",
    "    'SMOTE-ENN': SMOTEENN(random_state=42)\n",
    "    \n",
    "}\n",
    "\n",
    "for method_name, balancing_method in balancing_methods.items():\n",
    "    print(f\"Balancing Method: {method_name}\")\n",
    "    \n",
    "    X_train_balanced, y_train_balanced = balancing_method.fit_resample(X_train, y_train) if balancing_method else (X_train, y_train)\n",
    "    \n",
    "    \n",
    "    svm_model = SVC(kernel='rbf', random_state=42)\n",
    "    svm_model.fit(X_train_balanced, y_train_balanced)\n",
    "    y_pred = svm_model.predict(X_test)\n",
    "    \n",
    "    # Set zero_division to 'warn' or 'ignore' to handle the warning\n",
    "    report = classification_report(y_test, y_pred, zero_division=1)\n",
    "    print(report)\n",
    "    print('------------------------------------------------------------')"
   ]
  },
  {
   "cell_type": "code",
   "execution_count": null,
   "id": "37f13421",
   "metadata": {},
   "outputs": [],
   "source": [
    "from sklearn.model_selection import StratifiedKFold\n",
    "from sklearn.metrics import classification_report\n",
    "from imblearn.over_sampling import RandomOverSampler, SMOTE, ADASYN\n",
    "from imblearn.under_sampling import RandomUnderSampler\n",
    "from imblearn.combine import SMOTEENN\n",
    "from sklearn.svm import SVC\n",
    "\n",
    "# Assuming df, train_test_split, and other necessary imports are done before this point\n",
    "\n",
    "X = df.drop('stroke', axis=1)\n",
    "y = df['stroke']\n",
    "\n",
    "# Split the data into training and testing sets\n",
    "X_train, X_test, y_train, y_test = train_test_split(X, y, test_size=0.1, random_state=42, stratify=y)\n",
    "\n",
    "# Define the balancing methods\n",
    "balancing_methods = {\n",
    "    'No Balancing': None,\n",
    "    'Random OverSampling': RandomOverSampler(random_state=42),\n",
    "    'Random UnderSampling': RandomUnderSampler(random_state=42),\n",
    "    'SMOTE': SMOTE(random_state=42),\n",
    "    'ADASYN': ADASYN(random_state=42),\n",
    "    'SMOTE-ENN': SMOTEENN(random_state=42)\n",
    "}\n",
    "\n",
    "# Apply k-fold cross-validation\n",
    "kfold = StratifiedKFold(n_splits=5, shuffle=True, random_state=42)\n",
    "\n",
    "for method_name, balancing_method in balancing_methods.items():\n",
    "    print(f\"Balancing Method: {method_name}\")\n",
    "\n",
    "    # Initialize an empty list to store classification reports from each fold\n",
    "    reports = []\n",
    "\n",
    "    # Perform k-fold cross-validation\n",
    "    for train_index, val_index in kfold.split(X_train, y_train):\n",
    "        X_train_fold, X_val_fold = X_train.iloc[train_index], X_train.iloc[val_index]\n",
    "        y_train_fold, y_val_fold = y_train.iloc[train_index], y_train.iloc[val_index]\n",
    "\n",
    "        # Apply balancing method\n",
    "        X_train_fold_balanced, y_train_fold_balanced = (\n",
    "            balancing_method.fit_resample(X_train_fold, y_train_fold)\n",
    "            if balancing_method\n",
    "            else (X_train_fold, y_train_fold)\n",
    "        )\n",
    "\n",
    "        # Initialize and train the SVM model\n",
    "        svm_model = SVC(kernel='rbf', random_state=42)\n",
    "        svm_model.fit(X_train_fold_balanced, y_train_fold_balanced)\n",
    "\n",
    "        # Make predictions on the validation set\n",
    "        y_val_pred = svm_model.predict(X_val_fold)\n",
    "\n",
    "        # Calculate and store the classification report for this fold\n",
    "        report_fold = classification_report(y_val_fold, y_val_pred, zero_division=1)\n",
    "        reports.append(report_fold)\n",
    "\n",
    "    # Display the average classification report across all folds\n",
    "    avg_report = \"\\n\\nAverage Classification Report Across Folds:\\n\\n\" + \"\\n\\n\".join(reports)\n",
    "    print(avg_report)\n",
    "    print('------------------------------------------------------------')\n"
   ]
  },
  {
   "cell_type": "code",
   "execution_count": null,
   "id": "83d3c39a",
   "metadata": {},
   "outputs": [],
   "source": []
  }
 ],
 "metadata": {
  "kernelspec": {
   "display_name": "Python 3 (ipykernel)",
   "language": "python",
   "name": "python3"
  },
  "language_info": {
   "codemirror_mode": {
    "name": "ipython",
    "version": 3
   },
   "file_extension": ".py",
   "mimetype": "text/x-python",
   "name": "python",
   "nbconvert_exporter": "python",
   "pygments_lexer": "ipython3",
   "version": "3.10.4"
  }
 },
 "nbformat": 4,
 "nbformat_minor": 5
}
