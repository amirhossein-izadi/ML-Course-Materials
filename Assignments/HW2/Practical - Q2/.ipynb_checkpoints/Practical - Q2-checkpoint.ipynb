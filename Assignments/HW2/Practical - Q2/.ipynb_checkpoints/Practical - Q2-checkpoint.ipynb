{
 "cells": [
  {
   "cell_type": "markdown",
   "id": "08795d7c",
   "metadata": {},
   "source": [
    "## import libraries"
   ]
  },
  {
   "cell_type": "code",
   "execution_count": 210,
   "id": "5a9cd036",
   "metadata": {},
   "outputs": [],
   "source": [
    "import numpy as np \n",
    "import pandas as pd \n",
    "from sklearn.model_selection import train_test_split\n",
    "\n",
    "from sklearn.metrics import mean_squared_error, r2_score\n",
    "from sklearn.base import BaseEstimator, RegressorMixin"
   ]
  },
  {
   "cell_type": "code",
   "execution_count": 135,
   "id": "22ed4144",
   "metadata": {},
   "outputs": [],
   "source": [
    "df = pd.read_csv('insurance.csv')"
   ]
  },
  {
   "cell_type": "markdown",
   "id": "f9ec244a",
   "metadata": {},
   "source": [
    "### *some insight and details of database*"
   ]
  },
  {
   "cell_type": "code",
   "execution_count": 136,
   "id": "7a56e3c2",
   "metadata": {},
   "outputs": [
    {
     "data": {
      "text/html": [
       "<div>\n",
       "<style scoped>\n",
       "    .dataframe tbody tr th:only-of-type {\n",
       "        vertical-align: middle;\n",
       "    }\n",
       "\n",
       "    .dataframe tbody tr th {\n",
       "        vertical-align: top;\n",
       "    }\n",
       "\n",
       "    .dataframe thead th {\n",
       "        text-align: right;\n",
       "    }\n",
       "</style>\n",
       "<table border=\"1\" class=\"dataframe\">\n",
       "  <thead>\n",
       "    <tr style=\"text-align: right;\">\n",
       "      <th></th>\n",
       "      <th>age</th>\n",
       "      <th>sex</th>\n",
       "      <th>bmi</th>\n",
       "      <th>children</th>\n",
       "      <th>smoker</th>\n",
       "      <th>region</th>\n",
       "      <th>charges</th>\n",
       "    </tr>\n",
       "  </thead>\n",
       "  <tbody>\n",
       "    <tr>\n",
       "      <th>0</th>\n",
       "      <td>19</td>\n",
       "      <td>female</td>\n",
       "      <td>27.900</td>\n",
       "      <td>0</td>\n",
       "      <td>yes</td>\n",
       "      <td>southwest</td>\n",
       "      <td>16884.92400</td>\n",
       "    </tr>\n",
       "    <tr>\n",
       "      <th>1</th>\n",
       "      <td>18</td>\n",
       "      <td>male</td>\n",
       "      <td>33.770</td>\n",
       "      <td>1</td>\n",
       "      <td>no</td>\n",
       "      <td>southeast</td>\n",
       "      <td>1725.55230</td>\n",
       "    </tr>\n",
       "    <tr>\n",
       "      <th>2</th>\n",
       "      <td>28</td>\n",
       "      <td>male</td>\n",
       "      <td>33.000</td>\n",
       "      <td>3</td>\n",
       "      <td>no</td>\n",
       "      <td>southeast</td>\n",
       "      <td>4449.46200</td>\n",
       "    </tr>\n",
       "    <tr>\n",
       "      <th>3</th>\n",
       "      <td>33</td>\n",
       "      <td>male</td>\n",
       "      <td>22.705</td>\n",
       "      <td>0</td>\n",
       "      <td>no</td>\n",
       "      <td>northwest</td>\n",
       "      <td>21984.47061</td>\n",
       "    </tr>\n",
       "    <tr>\n",
       "      <th>4</th>\n",
       "      <td>32</td>\n",
       "      <td>male</td>\n",
       "      <td>28.880</td>\n",
       "      <td>0</td>\n",
       "      <td>no</td>\n",
       "      <td>northwest</td>\n",
       "      <td>3866.85520</td>\n",
       "    </tr>\n",
       "  </tbody>\n",
       "</table>\n",
       "</div>"
      ],
      "text/plain": [
       "   age     sex     bmi  children smoker     region      charges\n",
       "0   19  female  27.900         0    yes  southwest  16884.92400\n",
       "1   18    male  33.770         1     no  southeast   1725.55230\n",
       "2   28    male  33.000         3     no  southeast   4449.46200\n",
       "3   33    male  22.705         0     no  northwest  21984.47061\n",
       "4   32    male  28.880         0     no  northwest   3866.85520"
      ]
     },
     "execution_count": 136,
     "metadata": {},
     "output_type": "execute_result"
    }
   ],
   "source": [
    "df.head()"
   ]
  },
  {
   "cell_type": "code",
   "execution_count": 137,
   "id": "8ce50d13",
   "metadata": {},
   "outputs": [
    {
     "data": {
      "text/plain": [
       "(1338, 7)"
      ]
     },
     "execution_count": 137,
     "metadata": {},
     "output_type": "execute_result"
    }
   ],
   "source": [
    "df.shape"
   ]
  },
  {
   "cell_type": "markdown",
   "id": "0b28676c",
   "metadata": {},
   "source": [
    "### *we must check if there exist any missing values or duplicated records*"
   ]
  },
  {
   "cell_type": "code",
   "execution_count": 138,
   "id": "a06b500a",
   "metadata": {},
   "outputs": [
    {
     "data": {
      "text/plain": [
       "age         0\n",
       "sex         0\n",
       "bmi         0\n",
       "children    0\n",
       "smoker      0\n",
       "region      0\n",
       "charges     0\n",
       "dtype: int64"
      ]
     },
     "execution_count": 138,
     "metadata": {},
     "output_type": "execute_result"
    }
   ],
   "source": [
    "df.isnull().sum()"
   ]
  },
  {
   "cell_type": "code",
   "execution_count": 139,
   "id": "2a9cb762",
   "metadata": {},
   "outputs": [
    {
     "data": {
      "text/plain": [
       "1"
      ]
     },
     "execution_count": 139,
     "metadata": {},
     "output_type": "execute_result"
    }
   ],
   "source": [
    "df.duplicated().sum()"
   ]
  },
  {
   "cell_type": "code",
   "execution_count": 140,
   "id": "9130cc24",
   "metadata": {},
   "outputs": [],
   "source": [
    "df = df.drop_duplicates()"
   ]
  },
  {
   "cell_type": "markdown",
   "id": "4a39396f",
   "metadata": {},
   "source": [
    "## *encode the Ordinal and Nominal  columns*\n",
    "---\n",
    "- Ordinal columns via label encoding"
   ]
  },
  {
   "cell_type": "code",
   "execution_count": 141,
   "id": "3f107577",
   "metadata": {},
   "outputs": [],
   "source": [
    "from sklearn.preprocessing import LabelEncoder\n",
    "\n",
    "encoder = LabelEncoder()\n",
    "df['smoker'] = encoder.fit_transform(df['smoker'])"
   ]
  },
  {
   "cell_type": "markdown",
   "id": "ba6a8f39",
   "metadata": {},
   "source": [
    "- Nominal columns via onehot encoding "
   ]
  },
  {
   "cell_type": "code",
   "execution_count": 142,
   "id": "1b1246a8",
   "metadata": {},
   "outputs": [],
   "source": [
    "encoded = pd.get_dummies(df[['sex','region']])\n",
    "df = pd.concat([df.iloc[:,:-1],encoded, df.iloc[:,-1]], axis=1)\n",
    "df = df.drop(columns=['sex', 'region'])"
   ]
  },
  {
   "cell_type": "markdown",
   "id": "5f0e7072",
   "metadata": {},
   "source": [
    "## *get profile report of processed dataset up to now*"
   ]
  },
  {
   "cell_type": "code",
   "execution_count": 144,
   "id": "f702e718",
   "metadata": {},
   "outputs": [
    {
     "name": "stderr",
     "output_type": "stream",
     "text": [
      "Summarize dataset: 100%|████████████████████████████████████████████████████| 36/36 [00:01<00:00, 20.67it/s, Completed]\n",
      "Generate report structure: 100%|█████████████████████████████████████████████████████████| 1/1 [00:01<00:00,  1.54s/it]\n",
      "Render HTML: 100%|███████████████████████████████████████████████████████████████████████| 1/1 [00:00<00:00,  2.58it/s]\n",
      "Export report to file: 100%|████████████████████████████████████████████████████████████| 1/1 [00:00<00:00, 248.88it/s]\n"
     ]
    }
   ],
   "source": [
    "from ydata_profiling import ProfileReport\n",
    "\n",
    "profile = ProfileReport(df, title='insurance report')\n",
    "profile.to_file('insurance report.html')"
   ]
  },
  {
   "cell_type": "markdown",
   "id": "29c28768",
   "metadata": {},
   "source": [
    "- According to the distribution of bmi, we apply the standard scaler on these  feature but for age we apply minmax scaler\n",
    "- due to the  distribution of charges we apply log function to this feature"
   ]
  },
  {
   "cell_type": "code",
   "execution_count": 145,
   "id": "41b56c17",
   "metadata": {},
   "outputs": [],
   "source": [
    "from sklearn.preprocessing import MinMaxScaler, StandardScaler\n",
    "\n",
    "mm_scaler = MinMaxScaler()\n",
    "df[['age','children']] = mm_scaler.fit_transform(df[['age','children']])\n",
    "\n",
    "std_scaler = StandardScaler()\n",
    "df['bmi'] = std_scaler.fit_transform(df[['bmi']])\n",
    "\n",
    "df['charges'] = np.log(df['charges'])"
   ]
  },
  {
   "cell_type": "code",
   "execution_count": 146,
   "id": "de84753c",
   "metadata": {},
   "outputs": [
    {
     "data": {
      "text/html": [
       "<div>\n",
       "<style scoped>\n",
       "    .dataframe tbody tr th:only-of-type {\n",
       "        vertical-align: middle;\n",
       "    }\n",
       "\n",
       "    .dataframe tbody tr th {\n",
       "        vertical-align: top;\n",
       "    }\n",
       "\n",
       "    .dataframe thead th {\n",
       "        text-align: right;\n",
       "    }\n",
       "</style>\n",
       "<table border=\"1\" class=\"dataframe\">\n",
       "  <thead>\n",
       "    <tr style=\"text-align: right;\">\n",
       "      <th></th>\n",
       "      <th>age</th>\n",
       "      <th>bmi</th>\n",
       "      <th>children</th>\n",
       "      <th>smoker</th>\n",
       "      <th>sex_female</th>\n",
       "      <th>sex_male</th>\n",
       "      <th>region_northeast</th>\n",
       "      <th>region_northwest</th>\n",
       "      <th>region_southeast</th>\n",
       "      <th>region_southwest</th>\n",
       "      <th>charges</th>\n",
       "    </tr>\n",
       "  </thead>\n",
       "  <tbody>\n",
       "    <tr>\n",
       "      <th>0</th>\n",
       "      <td>0.021739</td>\n",
       "      <td>-0.453160</td>\n",
       "      <td>0</td>\n",
       "      <td>1</td>\n",
       "      <td>1</td>\n",
       "      <td>0</td>\n",
       "      <td>0</td>\n",
       "      <td>0</td>\n",
       "      <td>0</td>\n",
       "      <td>1</td>\n",
       "      <td>16884.92400</td>\n",
       "    </tr>\n",
       "    <tr>\n",
       "      <th>1</th>\n",
       "      <td>0.000000</td>\n",
       "      <td>0.509422</td>\n",
       "      <td>1</td>\n",
       "      <td>0</td>\n",
       "      <td>0</td>\n",
       "      <td>1</td>\n",
       "      <td>0</td>\n",
       "      <td>0</td>\n",
       "      <td>1</td>\n",
       "      <td>0</td>\n",
       "      <td>1725.55230</td>\n",
       "    </tr>\n",
       "    <tr>\n",
       "      <th>2</th>\n",
       "      <td>0.217391</td>\n",
       "      <td>0.383155</td>\n",
       "      <td>3</td>\n",
       "      <td>0</td>\n",
       "      <td>0</td>\n",
       "      <td>1</td>\n",
       "      <td>0</td>\n",
       "      <td>0</td>\n",
       "      <td>1</td>\n",
       "      <td>0</td>\n",
       "      <td>4449.46200</td>\n",
       "    </tr>\n",
       "    <tr>\n",
       "      <th>3</th>\n",
       "      <td>0.326087</td>\n",
       "      <td>-1.305052</td>\n",
       "      <td>0</td>\n",
       "      <td>0</td>\n",
       "      <td>0</td>\n",
       "      <td>1</td>\n",
       "      <td>0</td>\n",
       "      <td>1</td>\n",
       "      <td>0</td>\n",
       "      <td>0</td>\n",
       "      <td>21984.47061</td>\n",
       "    </tr>\n",
       "    <tr>\n",
       "      <th>4</th>\n",
       "      <td>0.304348</td>\n",
       "      <td>-0.292456</td>\n",
       "      <td>0</td>\n",
       "      <td>0</td>\n",
       "      <td>0</td>\n",
       "      <td>1</td>\n",
       "      <td>0</td>\n",
       "      <td>1</td>\n",
       "      <td>0</td>\n",
       "      <td>0</td>\n",
       "      <td>3866.85520</td>\n",
       "    </tr>\n",
       "    <tr>\n",
       "      <th>...</th>\n",
       "      <td>...</td>\n",
       "      <td>...</td>\n",
       "      <td>...</td>\n",
       "      <td>...</td>\n",
       "      <td>...</td>\n",
       "      <td>...</td>\n",
       "      <td>...</td>\n",
       "      <td>...</td>\n",
       "      <td>...</td>\n",
       "      <td>...</td>\n",
       "      <td>...</td>\n",
       "    </tr>\n",
       "    <tr>\n",
       "      <th>1333</th>\n",
       "      <td>0.695652</td>\n",
       "      <td>0.050269</td>\n",
       "      <td>3</td>\n",
       "      <td>0</td>\n",
       "      <td>0</td>\n",
       "      <td>1</td>\n",
       "      <td>0</td>\n",
       "      <td>1</td>\n",
       "      <td>0</td>\n",
       "      <td>0</td>\n",
       "      <td>10600.54830</td>\n",
       "    </tr>\n",
       "    <tr>\n",
       "      <th>1334</th>\n",
       "      <td>0.000000</td>\n",
       "      <td>0.206053</td>\n",
       "      <td>0</td>\n",
       "      <td>0</td>\n",
       "      <td>1</td>\n",
       "      <td>0</td>\n",
       "      <td>1</td>\n",
       "      <td>0</td>\n",
       "      <td>0</td>\n",
       "      <td>0</td>\n",
       "      <td>2205.98080</td>\n",
       "    </tr>\n",
       "    <tr>\n",
       "      <th>1335</th>\n",
       "      <td>0.000000</td>\n",
       "      <td>1.014490</td>\n",
       "      <td>0</td>\n",
       "      <td>0</td>\n",
       "      <td>1</td>\n",
       "      <td>0</td>\n",
       "      <td>0</td>\n",
       "      <td>0</td>\n",
       "      <td>1</td>\n",
       "      <td>0</td>\n",
       "      <td>1629.83350</td>\n",
       "    </tr>\n",
       "    <tr>\n",
       "      <th>1336</th>\n",
       "      <td>0.065217</td>\n",
       "      <td>-0.797524</td>\n",
       "      <td>0</td>\n",
       "      <td>0</td>\n",
       "      <td>1</td>\n",
       "      <td>0</td>\n",
       "      <td>0</td>\n",
       "      <td>0</td>\n",
       "      <td>0</td>\n",
       "      <td>1</td>\n",
       "      <td>2007.94500</td>\n",
       "    </tr>\n",
       "    <tr>\n",
       "      <th>1337</th>\n",
       "      <td>0.934783</td>\n",
       "      <td>-0.261299</td>\n",
       "      <td>0</td>\n",
       "      <td>1</td>\n",
       "      <td>1</td>\n",
       "      <td>0</td>\n",
       "      <td>0</td>\n",
       "      <td>1</td>\n",
       "      <td>0</td>\n",
       "      <td>0</td>\n",
       "      <td>29141.36030</td>\n",
       "    </tr>\n",
       "  </tbody>\n",
       "</table>\n",
       "<p>1337 rows × 11 columns</p>\n",
       "</div>"
      ],
      "text/plain": [
       "           age       bmi  children  smoker  sex_female  sex_male  \\\n",
       "0     0.021739 -0.453160         0       1           1         0   \n",
       "1     0.000000  0.509422         1       0           0         1   \n",
       "2     0.217391  0.383155         3       0           0         1   \n",
       "3     0.326087 -1.305052         0       0           0         1   \n",
       "4     0.304348 -0.292456         0       0           0         1   \n",
       "...        ...       ...       ...     ...         ...       ...   \n",
       "1333  0.695652  0.050269         3       0           0         1   \n",
       "1334  0.000000  0.206053         0       0           1         0   \n",
       "1335  0.000000  1.014490         0       0           1         0   \n",
       "1336  0.065217 -0.797524         0       0           1         0   \n",
       "1337  0.934783 -0.261299         0       1           1         0   \n",
       "\n",
       "      region_northeast  region_northwest  region_southeast  region_southwest  \\\n",
       "0                    0                 0                 0                 1   \n",
       "1                    0                 0                 1                 0   \n",
       "2                    0                 0                 1                 0   \n",
       "3                    0                 1                 0                 0   \n",
       "4                    0                 1                 0                 0   \n",
       "...                ...               ...               ...               ...   \n",
       "1333                 0                 1                 0                 0   \n",
       "1334                 1                 0                 0                 0   \n",
       "1335                 0                 0                 1                 0   \n",
       "1336                 0                 0                 0                 1   \n",
       "1337                 0                 1                 0                 0   \n",
       "\n",
       "          charges  \n",
       "0     16884.92400  \n",
       "1      1725.55230  \n",
       "2      4449.46200  \n",
       "3     21984.47061  \n",
       "4      3866.85520  \n",
       "...           ...  \n",
       "1333  10600.54830  \n",
       "1334   2205.98080  \n",
       "1335   1629.83350  \n",
       "1336   2007.94500  \n",
       "1337  29141.36030  \n",
       "\n",
       "[1337 rows x 11 columns]"
      ]
     },
     "execution_count": 146,
     "metadata": {},
     "output_type": "execute_result"
    }
   ],
   "source": [
    "df"
   ]
  },
  {
   "cell_type": "markdown",
   "id": "dafc1f00",
   "metadata": {},
   "source": [
    "-  In practice, we work we three separate sets of data:\n",
    "     - Training set, \n",
    "     - Validation set, \n",
    "     - Test set \n",
    " ---\n",
    " \n",
    "- The Validation and Test sets are called hold-out sets\n",
    "---\n",
    "- There’s no optimal proportion to split the dataset into these three subsets. \n",
    "     - In the past: 70/15/15\n",
    "     - With big datasets: 95/2.5/2.5\n",
    "---\n",
    "- We use the validation set to \n",
    "     - Choose the learning algorithm\n",
    "     - find the best values of hyper-parameters"
   ]
  },
  {
   "cell_type": "code",
   "execution_count": 203,
   "id": "3d6e1d27",
   "metadata": {},
   "outputs": [],
   "source": [
    "X = df.drop('charges', axis=1)\n",
    "y = df['charges']\n",
    "\n",
    "X_train, X_valid, y_train, y_valid = train_test_split(X, y, test_size=0.2, random_state=42)"
   ]
  },
  {
   "cell_type": "code",
   "execution_count": 204,
   "id": "a6c65a30",
   "metadata": {},
   "outputs": [],
   "source": [
    "class LinearRegression:\n",
    "    def __init__(self, learning_rate=0.03, n_iterations=10000):\n",
    "        self.learning_rate = learning_rate\n",
    "        self.n_iterations = n_iterations\n",
    "        self.weights = None\n",
    "        self.bias = None\n",
    "\n",
    "    def fit(self, X, y):\n",
    "        n_samples, n_features = X.shape\n",
    "        self.weights = np.zeros(n_features)\n",
    "        self.bias = 0\n",
    "\n",
    "        # Gradient Descent\n",
    "        for _ in range(self.n_iterations):\n",
    "            y_pred = np.dot(X, self.weights) + self.bias\n",
    "            error = y_pred - y\n",
    "\n",
    "            self.weights -= (self.learning_rate / n_samples) * np.dot(X.T, error)\n",
    "            self.bias -= (self.learning_rate / n_samples) * np.sum(error)\n",
    "\n",
    "    def predict(self, X):\n",
    "        return np.dot(X, self.weights) + self.bias"
   ]
  },
  {
   "cell_type": "code",
   "execution_count": 205,
   "id": "68ba82c0",
   "metadata": {},
   "outputs": [],
   "source": [
    "model = LinearRegression()\n",
    "model.fit(X_train, y_train)\n",
    "\n",
    "y_pred = model.predict(X_valid)"
   ]
  },
  {
   "cell_type": "code",
   "execution_count": 206,
   "id": "3d066912",
   "metadata": {},
   "outputs": [
    {
     "name": "stdout",
     "output_type": "stream",
     "text": [
      "Mean Squared Error: 0.15828783932380375\n",
      "R-squared: 0.8294642961671349\n"
     ]
    }
   ],
   "source": [
    "mse = mean_squared_error(y_valid, y_pred)\n",
    "r2 = r2_score(y_valid, y_pred)\n",
    "\n",
    "print(f'Mean Squared Error: {mse}')\n",
    "print(f'R-squared: {r2}')"
   ]
  },
  {
   "cell_type": "markdown",
   "id": "741428aa",
   "metadata": {},
   "source": [
    "### with sklearn linear regression and corss validation"
   ]
  },
  {
   "cell_type": "code",
   "execution_count": null,
   "id": "a11e8abe",
   "metadata": {},
   "outputs": [],
   "source": []
  },
  {
   "cell_type": "code",
   "execution_count": null,
   "id": "2e2dd1ba",
   "metadata": {},
   "outputs": [],
   "source": []
  },
  {
   "cell_type": "markdown",
   "id": "d64f329c",
   "metadata": {},
   "source": [
    "### polynomial regression "
   ]
  },
  {
   "cell_type": "code",
   "execution_count": 207,
   "id": "0bfee6f3",
   "metadata": {},
   "outputs": [
    {
     "name": "stdout",
     "output_type": "stream",
     "text": [
      "Polynomial Regression Mean Squared Error: 0.15878577829457924\n",
      "Polynomial Regression R-squared: 0.828927828089677\n"
     ]
    }
   ],
   "source": [
    "class PolynomialRegression(LinearRegression):\n",
    "    def __init__(self, degree=2, learning_rate=0.03, n_iterations=10000):\n",
    "        super().__init__(learning_rate, n_iterations)\n",
    "        self.degree = degree\n",
    "\n",
    "    def _add_polynomial_features(self, X):\n",
    "        # Add polynomial features to the input data\n",
    "        X_poly = X.copy()\n",
    "        for d in range(2, self.degree + 1):\n",
    "            X_poly = np.concatenate((X_poly, X ** d), axis=1)\n",
    "        return X_poly\n",
    "\n",
    "    def fit(self, X, y):\n",
    "        X_poly = self._add_polynomial_features(X)\n",
    "        super().fit(X_poly, y)\n",
    "\n",
    "    def predict(self, X):\n",
    "        X_poly = self._add_polynomial_features(X)\n",
    "        return super().predict(X_poly)\n",
    "\n",
    "# Let's create an instance of the PolynomialRegression class and fit the model\n",
    "poly_model = PolynomialRegression(degree=2)\n",
    "poly_model.fit(X_train, y_train)\n",
    "\n",
    "# Make predictions on the validation set\n",
    "y_pred_poly = poly_model.predict(X_valid)\n",
    "\n",
    "# Evaluate the polynomial regression model\n",
    "mse_poly = mean_squared_error(y_valid, y_pred_poly)\n",
    "r2_poly = r2_score(y_valid, y_pred_poly)\n",
    "\n",
    "print(f'Polynomial Regression Mean Squared Error: {mse_poly}')\n",
    "print(f'Polynomial Regression R-squared: {r2_poly}')\n"
   ]
  },
  {
   "cell_type": "code",
   "execution_count": 209,
   "id": "e91eee83",
   "metadata": {},
   "outputs": [
    {
     "name": "stdout",
     "output_type": "stream",
     "text": [
      "Best Degree: 1\n",
      "Best Polynomial Regression Mean Squared Error: 0.1574625296664241\n",
      "Best Polynomial Regression R-squared: 0.8303534659473438\n"
     ]
    }
   ],
   "source": [
    "class PolynomialRegressionWrapper(BaseEstimator, RegressorMixin):\n",
    "    def __init__(self, degree=2, learning_rate=0.03, n_iterations=1000):\n",
    "        self.degree = degree\n",
    "        self.learning_rate = learning_rate\n",
    "        self.n_iterations = n_iterations\n",
    "        self.model = PolynomialRegression(degree, learning_rate, n_iterations)\n",
    "\n",
    "    def fit(self, X, y):\n",
    "        self.model.fit(X, y)\n",
    "        return self\n",
    "\n",
    "    def predict(self, X):\n",
    "        return self.model.predict(X)\n",
    "\n",
    "# Now use the wrapper with GridSearchCV\n",
    "param_grid = {'degree': [1, 2, 3, 4, 5]}\n",
    "\n",
    "poly_model_wrapper = PolynomialRegressionWrapper()\n",
    "grid_search = GridSearchCV(poly_model_wrapper, param_grid, scoring='neg_mean_squared_error', cv=KFold(n_splits=5, shuffle=True, random_state=42))\n",
    "grid_search.fit(X_train, y_train)\n",
    "\n",
    "best_degree = grid_search.best_params_['degree']\n",
    "print(f'Best Degree: {best_degree}')\n",
    "\n",
    "best_poly_model_wrapper = PolynomialRegressionWrapper(degree=best_degree)\n",
    "best_poly_model_wrapper.fit(X_train, y_train)\n",
    "\n",
    "y_pred_best_poly = best_poly_model_wrapper.predict(X_valid)\n",
    "\n",
    "mse_best_poly = mean_squared_error(y_valid, y_pred_best_poly)\n",
    "r2_best_poly = r2_score(y_valid, y_pred_best_poly)\n",
    "\n",
    "print(f'Best Polynomial Regression Mean Squared Error: {mse_best_poly}')\n",
    "print(f'Best Polynomial Regression R-squared: {r2_best_poly}')\n"
   ]
  },
  {
   "cell_type": "code",
   "execution_count": null,
   "id": "afdde5b0",
   "metadata": {},
   "outputs": [],
   "source": []
  }
 ],
 "metadata": {
  "kernelspec": {
   "display_name": "Python 3 (ipykernel)",
   "language": "python",
   "name": "python3"
  },
  "language_info": {
   "codemirror_mode": {
    "name": "ipython",
    "version": 3
   },
   "file_extension": ".py",
   "mimetype": "text/x-python",
   "name": "python",
   "nbconvert_exporter": "python",
   "pygments_lexer": "ipython3",
   "version": "3.10.4"
  }
 },
 "nbformat": 4,
 "nbformat_minor": 5
}
