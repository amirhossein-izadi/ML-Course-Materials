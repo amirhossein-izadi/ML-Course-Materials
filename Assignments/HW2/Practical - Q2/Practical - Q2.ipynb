{
 "cells": [
  {
   "cell_type": "markdown",
   "id": "08795d7c",
   "metadata": {},
   "source": [
    "## import libraries"
   ]
  },
  {
   "cell_type": "code",
   "execution_count": 74,
   "id": "5a9cd036",
   "metadata": {},
   "outputs": [],
   "source": [
    "import numpy as np \n",
    "import pandas as pd \n",
    "from sklearn.model_selection import train_test_split\n",
    "\n",
    "from sklearn.metrics import mean_squared_error, r2_score\n",
    "from sklearn.model_selection import cross_val_score\n",
    "\n",
    "from sklearn.base import BaseEstimator, RegressorMixin"
   ]
  },
  {
   "cell_type": "code",
   "execution_count": 75,
   "id": "22ed4144",
   "metadata": {},
   "outputs": [],
   "source": [
    "df = pd.read_csv('insurance.csv')"
   ]
  },
  {
   "cell_type": "markdown",
   "id": "f9ec244a",
   "metadata": {},
   "source": [
    "### *some insight and details of database*"
   ]
  },
  {
   "cell_type": "code",
   "execution_count": 76,
   "id": "7a56e3c2",
   "metadata": {},
   "outputs": [
    {
     "data": {
      "text/html": [
       "<div>\n",
       "<style scoped>\n",
       "    .dataframe tbody tr th:only-of-type {\n",
       "        vertical-align: middle;\n",
       "    }\n",
       "\n",
       "    .dataframe tbody tr th {\n",
       "        vertical-align: top;\n",
       "    }\n",
       "\n",
       "    .dataframe thead th {\n",
       "        text-align: right;\n",
       "    }\n",
       "</style>\n",
       "<table border=\"1\" class=\"dataframe\">\n",
       "  <thead>\n",
       "    <tr style=\"text-align: right;\">\n",
       "      <th></th>\n",
       "      <th>age</th>\n",
       "      <th>sex</th>\n",
       "      <th>bmi</th>\n",
       "      <th>children</th>\n",
       "      <th>smoker</th>\n",
       "      <th>region</th>\n",
       "      <th>charges</th>\n",
       "    </tr>\n",
       "  </thead>\n",
       "  <tbody>\n",
       "    <tr>\n",
       "      <th>0</th>\n",
       "      <td>19</td>\n",
       "      <td>female</td>\n",
       "      <td>27.900</td>\n",
       "      <td>0</td>\n",
       "      <td>yes</td>\n",
       "      <td>southwest</td>\n",
       "      <td>16884.92400</td>\n",
       "    </tr>\n",
       "    <tr>\n",
       "      <th>1</th>\n",
       "      <td>18</td>\n",
       "      <td>male</td>\n",
       "      <td>33.770</td>\n",
       "      <td>1</td>\n",
       "      <td>no</td>\n",
       "      <td>southeast</td>\n",
       "      <td>1725.55230</td>\n",
       "    </tr>\n",
       "    <tr>\n",
       "      <th>2</th>\n",
       "      <td>28</td>\n",
       "      <td>male</td>\n",
       "      <td>33.000</td>\n",
       "      <td>3</td>\n",
       "      <td>no</td>\n",
       "      <td>southeast</td>\n",
       "      <td>4449.46200</td>\n",
       "    </tr>\n",
       "    <tr>\n",
       "      <th>3</th>\n",
       "      <td>33</td>\n",
       "      <td>male</td>\n",
       "      <td>22.705</td>\n",
       "      <td>0</td>\n",
       "      <td>no</td>\n",
       "      <td>northwest</td>\n",
       "      <td>21984.47061</td>\n",
       "    </tr>\n",
       "    <tr>\n",
       "      <th>4</th>\n",
       "      <td>32</td>\n",
       "      <td>male</td>\n",
       "      <td>28.880</td>\n",
       "      <td>0</td>\n",
       "      <td>no</td>\n",
       "      <td>northwest</td>\n",
       "      <td>3866.85520</td>\n",
       "    </tr>\n",
       "  </tbody>\n",
       "</table>\n",
       "</div>"
      ],
      "text/plain": [
       "   age     sex     bmi  children smoker     region      charges\n",
       "0   19  female  27.900         0    yes  southwest  16884.92400\n",
       "1   18    male  33.770         1     no  southeast   1725.55230\n",
       "2   28    male  33.000         3     no  southeast   4449.46200\n",
       "3   33    male  22.705         0     no  northwest  21984.47061\n",
       "4   32    male  28.880         0     no  northwest   3866.85520"
      ]
     },
     "execution_count": 76,
     "metadata": {},
     "output_type": "execute_result"
    }
   ],
   "source": [
    "df.head()"
   ]
  },
  {
   "cell_type": "code",
   "execution_count": 77,
   "id": "8ce50d13",
   "metadata": {},
   "outputs": [
    {
     "data": {
      "text/plain": [
       "(1338, 7)"
      ]
     },
     "execution_count": 77,
     "metadata": {},
     "output_type": "execute_result"
    }
   ],
   "source": [
    "df.shape"
   ]
  },
  {
   "cell_type": "markdown",
   "id": "0b28676c",
   "metadata": {},
   "source": [
    "### *we must check if there exist any missing values or duplicated records*"
   ]
  },
  {
   "cell_type": "code",
   "execution_count": 78,
   "id": "a06b500a",
   "metadata": {},
   "outputs": [
    {
     "data": {
      "text/plain": [
       "age         0\n",
       "sex         0\n",
       "bmi         0\n",
       "children    0\n",
       "smoker      0\n",
       "region      0\n",
       "charges     0\n",
       "dtype: int64"
      ]
     },
     "execution_count": 78,
     "metadata": {},
     "output_type": "execute_result"
    }
   ],
   "source": [
    "df.isnull().sum()"
   ]
  },
  {
   "cell_type": "code",
   "execution_count": 79,
   "id": "2a9cb762",
   "metadata": {},
   "outputs": [
    {
     "data": {
      "text/plain": [
       "1"
      ]
     },
     "execution_count": 79,
     "metadata": {},
     "output_type": "execute_result"
    }
   ],
   "source": [
    "df.duplicated().sum()"
   ]
  },
  {
   "cell_type": "code",
   "execution_count": 80,
   "id": "9130cc24",
   "metadata": {},
   "outputs": [],
   "source": [
    "df = df.drop_duplicates()"
   ]
  },
  {
   "cell_type": "markdown",
   "id": "4a39396f",
   "metadata": {},
   "source": [
    "## *encode the Ordinal and Nominal  columns*\n",
    "---\n",
    "- Ordinal columns via label encoding"
   ]
  },
  {
   "cell_type": "code",
   "execution_count": 81,
   "id": "3f107577",
   "metadata": {},
   "outputs": [],
   "source": [
    "from sklearn.preprocessing import LabelEncoder\n",
    "\n",
    "encoder = LabelEncoder()\n",
    "df['smoker'] = encoder.fit_transform(df['smoker'])"
   ]
  },
  {
   "cell_type": "markdown",
   "id": "ba6a8f39",
   "metadata": {},
   "source": [
    "- Nominal columns via onehot encoding "
   ]
  },
  {
   "cell_type": "code",
   "execution_count": 82,
   "id": "1b1246a8",
   "metadata": {},
   "outputs": [],
   "source": [
    "encoded = pd.get_dummies(df[['sex','region']])\n",
    "df = pd.concat([df.iloc[:,:-1],encoded, df.iloc[:,-1]], axis=1)\n",
    "df = df.drop(columns=['sex', 'region'])"
   ]
  },
  {
   "cell_type": "markdown",
   "id": "328db842",
   "metadata": {},
   "source": [
    "-  In practice, we work we three separate sets of data:\n",
    "     - Training set, \n",
    "     - Validation set, \n",
    "     - Test set \n",
    " ---\n",
    " \n",
    "- The Validation and Test sets are called hold-out sets\n",
    "---\n",
    "- There’s no optimal proportion to split the dataset into these three subsets. \n",
    "     - In the past: 70/15/15\n",
    "     - With big datasets: 95/2.5/2.5\n",
    "---\n",
    "- We use the validation set to \n",
    "     - Choose the learning algorithm\n",
    "     - find the best values of hyper-parameters\n",
    "\n"
   ]
  },
  {
   "cell_type": "markdown",
   "id": "66d8c070",
   "metadata": {},
   "source": [
    "___\n",
    "\n",
    "### here becuase our model is fixed we dont need validation set\n",
    "\n",
    ">At first due to the  distribution of charges we apply log function to this feature becuase the log function is not dependent of training set charachtrastic we do it before spliting the dataset into train and test set \n",
    "\n",
    "> Secondly we split into training and test only and apply linear regression model then we use sklearn cross validation function and pass X and y to it, it breaks it into k-1 fold for training and a fold as validation(here test) set  \n",
    "\n"
   ]
  },
  {
   "cell_type": "code",
   "execution_count": 83,
   "id": "404c01e2",
   "metadata": {},
   "outputs": [],
   "source": [
    "df['charges'] = np.log(df['charges'])"
   ]
  },
  {
   "cell_type": "code",
   "execution_count": 84,
   "id": "3d6e1d27",
   "metadata": {},
   "outputs": [],
   "source": [
    "X = df.drop('charges', axis=1)\n",
    "y = df['charges']\n",
    "\n",
    "X_train, X_test, y_train, y_test  = train_test_split(X, y, test_size=0.2, random_state=42)"
   ]
  },
  {
   "cell_type": "markdown",
   "id": "0ce1ca10",
   "metadata": {},
   "source": [
    "## *get profile report of training set and preprocess the data*\n",
    "---\n",
    "\n",
    "Before delving into modeling, it is essential to normalize/standardize:\n",
    "  - The Training Set\n",
    "  - Test Set with Respect to Training Set Parameters"
   ]
  },
  {
   "cell_type": "code",
   "execution_count": 85,
   "id": "c88132b6",
   "metadata": {},
   "outputs": [],
   "source": [
    "training_set = pd.concat([X_train, pd.DataFrame(y_train, columns=['charges'])], axis = 1)"
   ]
  },
  {
   "cell_type": "code",
   "execution_count": 86,
   "id": "9f7cc3fd",
   "metadata": {},
   "outputs": [
    {
     "name": "stderr",
     "output_type": "stream",
     "text": [
      "Summarize dataset: 100%|████████████████████████████████████████████████████| 36/36 [00:01<00:00, 19.61it/s, Completed]\n",
      "Generate report structure: 100%|█████████████████████████████████████████████████████████| 1/1 [00:01<00:00,  1.51s/it]\n",
      "Render HTML: 100%|███████████████████████████████████████████████████████████████████████| 1/1 [00:00<00:00,  2.55it/s]\n",
      "Export report to file: 100%|████████████████████████████████████████████████████████████| 1/1 [00:00<00:00, 335.04it/s]\n"
     ]
    }
   ],
   "source": [
    "from ydata_profiling import ProfileReport\n",
    "\n",
    "profile = ProfileReport(training_set, title='insurance report')\n",
    "profile.to_file('insurance report.html')"
   ]
  },
  {
   "cell_type": "markdown",
   "id": "781ef2a9",
   "metadata": {},
   "source": [
    "- According to the distribution of bmi, we apply the standard scaler on these  feature but for age we apply minmax scaler\n"
   ]
  },
  {
   "cell_type": "code",
   "execution_count": 87,
   "id": "1c832ed2",
   "metadata": {},
   "outputs": [],
   "source": [
    "from sklearn.preprocessing import MinMaxScaler, StandardScaler\n",
    "\n",
    "mm_scaler = MinMaxScaler()\n",
    "X_train[['age','children']] = mm_scaler.fit_transform(X_train[['age','children']])\n",
    "X_test[['age','children']] = mm_scaler.transform(X_test[['age','children']])\n",
    "\n",
    "\n",
    "std_scaler = StandardScaler()\n",
    "X_train['bmi'] = std_scaler.fit_transform(X_train[['bmi']])\n",
    "X_test['bmi'] = std_scaler.transform(X_test[['bmi']])"
   ]
  },
  {
   "cell_type": "code",
   "execution_count": 88,
   "id": "a6c65a30",
   "metadata": {},
   "outputs": [],
   "source": [
    "class LinearRegressionClassifier:\n",
    "    \n",
    "    \n",
    "    def __init__(self, learning_rate=0.03, n_iterations=10000):\n",
    "        self.learning_rate = learning_rate\n",
    "        self.n_iterations = n_iterations\n",
    "        self.weights = None\n",
    "        self.bias = None\n",
    "\n",
    "    def fit(self, X, y):\n",
    "        n_samples, n_features = X.shape\n",
    "        self.weights = np.zeros(n_features)\n",
    "        self.bias = 0\n",
    "\n",
    "        # Gradient Descent\n",
    "        for _ in range(self.n_iterations):\n",
    "            y_pred = np.dot(X, self.weights) + self.bias\n",
    "            error = y_pred - y\n",
    "\n",
    "            self.weights -= (self.learning_rate / n_samples) * np.dot(X.T, error)\n",
    "            self.bias -= (self.learning_rate / n_samples) * np.sum(error)\n",
    "\n",
    "    def predict(self, X):\n",
    "        return np.dot(X, self.weights) + self.bias"
   ]
  },
  {
   "cell_type": "code",
   "execution_count": 89,
   "id": "68ba82c0",
   "metadata": {},
   "outputs": [],
   "source": [
    "model = LinearRegressionClassifier()\n",
    "model.fit(X_train, y_train)\n",
    "\n",
    "y_pred = model.predict(X_test)"
   ]
  },
  {
   "cell_type": "code",
   "execution_count": 90,
   "id": "3d066912",
   "metadata": {},
   "outputs": [
    {
     "name": "stdout",
     "output_type": "stream",
     "text": [
      "Mean Squared Error: 0.15828783932410606\n",
      "R-squared: 0.8294642961668092\n"
     ]
    }
   ],
   "source": [
    "mse = mean_squared_error(y_test, y_pred)\n",
    "r2 = r2_score(y_test, y_pred)\n",
    "\n",
    "print(f'Mean Squared Error: {mse}')\n",
    "print(f'R-squared: {r2}')"
   ]
  },
  {
   "cell_type": "markdown",
   "id": "dea523b6",
   "metadata": {},
   "source": [
    "### with sklearn linear regression and corss validation"
   ]
  },
  {
   "cell_type": "code",
   "execution_count": 91,
   "id": "e2ac0c35",
   "metadata": {},
   "outputs": [],
   "source": [
    "from sklearn.linear_model import LinearRegression\n",
    "scores = cross_val_score(LinearRegression(), X, y, cv=10)"
   ]
  },
  {
   "cell_type": "code",
   "execution_count": 92,
   "id": "34028d5d",
   "metadata": {},
   "outputs": [
    {
     "data": {
      "text/plain": [
       "0.7607924685763823"
      ]
     },
     "execution_count": 92,
     "metadata": {},
     "output_type": "execute_result"
    }
   ],
   "source": [
    "scores.mean()"
   ]
  },
  {
   "cell_type": "markdown",
   "id": "8ce88fe3",
   "metadata": {},
   "source": [
    "### polynomial regression "
   ]
  },
  {
   "cell_type": "code",
   "execution_count": 93,
   "id": "0bfee6f3",
   "metadata": {},
   "outputs": [
    {
     "name": "stdout",
     "output_type": "stream",
     "text": [
      "Polynomial Regression Mean Squared Error: 0.15878588200446794\n",
      "Polynomial Regression R-squared: 0.828927716355011\n"
     ]
    }
   ],
   "source": [
    "class PolynomialRegression(LinearRegressionClassifier):\n",
    "    def __init__(self, degree=2, learning_rate=0.03, n_iterations=10000):\n",
    "        super().__init__(learning_rate, n_iterations)\n",
    "        self.degree = degree\n",
    "\n",
    "    def _add_polynomial_features(self, X):\n",
    "        # Add polynomial features to the input data\n",
    "        X_poly = X.copy()\n",
    "        for d in range(2, self.degree + 1):\n",
    "            X_poly = np.concatenate((X_poly, X ** d), axis=1)\n",
    "        return X_poly\n",
    "\n",
    "    def fit(self, X, y):\n",
    "        X_poly = self._add_polynomial_features(X)\n",
    "        super().fit(X_poly, y)\n",
    "\n",
    "    def predict(self, X):\n",
    "        X_poly = self._add_polynomial_features(X)\n",
    "        return super().predict(X_poly)\n",
    "\n",
    "# Let's create an instance of the PolynomialRegression class and fit the model\n",
    "poly_model = PolynomialRegression(degree=2)\n",
    "poly_model.fit(X_train, y_train)\n",
    "\n",
    "# Make predictions on the validation set\n",
    "y_pred_poly = poly_model.predict(X_test)\n",
    "\n",
    "# Evaluate the polynomial regression model\n",
    "mse_poly = mean_squared_error(y_test, y_pred_poly)\n",
    "r2_poly = r2_score(y_test, y_pred_poly)\n",
    "\n",
    "print(f'Polynomial Regression Mean Squared Error: {mse_poly}')\n",
    "print(f'Polynomial Regression R-squared: {r2_poly}')\n"
   ]
  },
  {
   "cell_type": "code",
   "execution_count": null,
   "id": "9e450a5e",
   "metadata": {},
   "outputs": [],
   "source": []
  },
  {
   "cell_type": "code",
   "execution_count": null,
   "id": "725a8ee2",
   "metadata": {},
   "outputs": [],
   "source": []
  }
 ],
 "metadata": {
  "kernelspec": {
   "display_name": "Python 3 (ipykernel)",
   "language": "python",
   "name": "python3"
  },
  "language_info": {
   "codemirror_mode": {
    "name": "ipython",
    "version": 3
   },
   "file_extension": ".py",
   "mimetype": "text/x-python",
   "name": "python",
   "nbconvert_exporter": "python",
   "pygments_lexer": "ipython3",
   "version": "3.10.4"
  }
 },
 "nbformat": 4,
 "nbformat_minor": 5
}
